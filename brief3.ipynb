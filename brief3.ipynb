{
 "cells": [
  {
   "cell_type": "code",
   "execution_count": null,
   "metadata": {
    "scrolled": true
   },
   "outputs": [],
   "source": [
    "# installation\n",
    "pip install pandas_profiling"
   ]
  },
  {
   "cell_type": "code",
   "execution_count": 151,
   "metadata": {},
   "outputs": [],
   "source": [
    "# imports\n",
    "import pandas as pd\n",
    "import numpy as np\n",
    "import sqlite3\n",
    "import seaborn as sns\n"
   ]
  },
  {
   "cell_type": "code",
   "execution_count": 2,
   "metadata": {},
   "outputs": [],
   "source": [
    "import io\n",
    "\n",
    "# récupération du csv\n",
    "df = pd.read_csv('owid-covid-data.csv')"
   ]
  },
  {
   "cell_type": "code",
   "execution_count": 26,
   "metadata": {
    "scrolled": true
   },
   "outputs": [
    {
     "name": "stdout",
     "output_type": "stream",
     "text": [
      "<class 'pandas.core.frame.DataFrame'>\n",
      "RangeIndex: 86418 entries, 0 to 86417\n",
      "Data columns (total 59 columns):\n",
      " #   Column                                 Non-Null Count  Dtype  \n",
      "---  ------                                 --------------  -----  \n",
      " 0   iso_code                               86418 non-null  object \n",
      " 1   continent                              82253 non-null  object \n",
      " 2   location                               86418 non-null  object \n",
      " 3   date                                   86418 non-null  object \n",
      " 4   total_cases                            84266 non-null  float64\n",
      " 5   new_cases                              84264 non-null  float64\n",
      " 6   new_cases_smoothed                     83263 non-null  float64\n",
      " 7   total_deaths                           74554 non-null  float64\n",
      " 8   new_deaths                             74712 non-null  float64\n",
      " 9   new_deaths_smoothed                    83263 non-null  float64\n",
      " 10  total_cases_per_million                83811 non-null  float64\n",
      " 11  new_cases_per_million                  83809 non-null  float64\n",
      " 12  new_cases_smoothed_per_million         82813 non-null  float64\n",
      " 13  total_deaths_per_million               74112 non-null  float64\n",
      " 14  new_deaths_per_million                 74270 non-null  float64\n",
      " 15  new_deaths_smoothed_per_million        82813 non-null  float64\n",
      " 16  reproduction_rate                      70034 non-null  float64\n",
      " 17  icu_patients                           8825 non-null   float64\n",
      " 18  icu_patients_per_million               8825 non-null   float64\n",
      " 19  hosp_patients                          10994 non-null  float64\n",
      " 20  hosp_patients_per_million              10994 non-null  float64\n",
      " 21  weekly_icu_admissions                  801 non-null    float64\n",
      " 22  weekly_icu_admissions_per_million      801 non-null    float64\n",
      " 23  weekly_hosp_admissions                 1392 non-null   float64\n",
      " 24  weekly_hosp_admissions_per_million     1392 non-null   float64\n",
      " 25  new_tests                              39265 non-null  float64\n",
      " 26  total_tests                            38970 non-null  float64\n",
      " 27  total_tests_per_thousand               38970 non-null  float64\n",
      " 28  new_tests_per_thousand                 39265 non-null  float64\n",
      " 29  new_tests_smoothed                     44987 non-null  float64\n",
      " 30  new_tests_smoothed_per_thousand        44987 non-null  float64\n",
      " 31  positive_rate                          43256 non-null  float64\n",
      " 32  tests_per_case                         42663 non-null  float64\n",
      " 33  tests_units                            46453 non-null  object \n",
      " 34  total_vaccinations                     9900 non-null   float64\n",
      " 35  people_vaccinated                      9223 non-null   float64\n",
      " 36  people_fully_vaccinated                6869 non-null   float64\n",
      " 37  new_vaccinations                       8396 non-null   float64\n",
      " 38  new_vaccinations_smoothed              15889 non-null  float64\n",
      " 39  total_vaccinations_per_hundred         9900 non-null   float64\n",
      " 40  people_vaccinated_per_hundred          9223 non-null   float64\n",
      " 41  people_fully_vaccinated_per_hundred    6869 non-null   float64\n",
      " 42  new_vaccinations_smoothed_per_million  15889 non-null  float64\n",
      " 43  stringency_index                       73337 non-null  float64\n",
      " 44  population                             85863 non-null  float64\n",
      " 45  population_density                     80442 non-null  float64\n",
      " 46  median_age                             77827 non-null  float64\n",
      " 47  aged_65_older                          76939 non-null  float64\n",
      " 48  aged_70_older                          77391 non-null  float64\n",
      " 49  gdp_per_capita                         78173 non-null  float64\n",
      " 50  extreme_poverty                        53207 non-null  float64\n",
      " 51  cardiovasc_death_rate                  78757 non-null  float64\n",
      " 52  diabetes_prevalence                    79934 non-null  float64\n",
      " 53  female_smokers                         61694 non-null  float64\n",
      " 54  male_smokers                           60785 non-null  float64\n",
      " 55  handwashing_facilities                 39577 non-null  float64\n",
      " 56  hospital_beds_per_thousand             71857 non-null  float64\n",
      " 57  life_expectancy                        82019 non-null  float64\n",
      " 58  human_development_index                78640 non-null  float64\n",
      "dtypes: float64(54), object(5)\n",
      "memory usage: 38.9+ MB\n"
     ]
    }
   ],
   "source": [
    "df.info()"
   ]
  },
  {
   "cell_type": "code",
   "execution_count": 3,
   "metadata": {},
   "outputs": [],
   "source": [
    "# création de et connexion à la bdd\n",
    "conn = sqlite3.connect('brief-data.db')\n",
    "c = conn.cursor()"
   ]
  },
  {
   "cell_type": "code",
   "execution_count": null,
   "metadata": {},
   "outputs": [],
   "source": [
    "# import du csv dans la bdd (commenté pour éviter d'append plusieurs fois)\n",
    "# df.to_sql('data', conn, if_exists='append', index=False)"
   ]
  },
  {
   "cell_type": "code",
   "execution_count": 108,
   "metadata": {},
   "outputs": [
    {
     "data": {
      "text/html": [
       "<div>\n",
       "<style scoped>\n",
       "    .dataframe tbody tr th:only-of-type {\n",
       "        vertical-align: middle;\n",
       "    }\n",
       "\n",
       "    .dataframe tbody tr th {\n",
       "        vertical-align: top;\n",
       "    }\n",
       "\n",
       "    .dataframe thead th {\n",
       "        text-align: right;\n",
       "    }\n",
       "</style>\n",
       "<table border=\"1\" class=\"dataframe\">\n",
       "  <thead>\n",
       "    <tr style=\"text-align: right;\">\n",
       "      <th></th>\n",
       "      <th>NOMBRE DE PAYS</th>\n",
       "    </tr>\n",
       "  </thead>\n",
       "  <tbody>\n",
       "    <tr>\n",
       "      <th>0</th>\n",
       "      <td>219</td>\n",
       "    </tr>\n",
       "  </tbody>\n",
       "</table>\n",
       "</div>"
      ],
      "text/plain": [
       "   NOMBRE DE PAYS\n",
       "0             219"
      ]
     },
     "execution_count": 108,
     "metadata": {},
     "output_type": "execute_result"
    }
   ],
   "source": [
    "# 1. How many countries are included in our data set?\n",
    "pd.read_sql_query(\"\"\"\n",
    "    SELECT count(DISTINCT location) as 'NOMBRE DE PAYS'\n",
    "    FROM data;\"\"\",conn)"
   ]
  },
  {
   "cell_type": "code",
   "execution_count": 110,
   "metadata": {},
   "outputs": [
    {
     "data": {
      "text/html": [
       "<div>\n",
       "<style scoped>\n",
       "    .dataframe tbody tr th:only-of-type {\n",
       "        vertical-align: middle;\n",
       "    }\n",
       "\n",
       "    .dataframe tbody tr th {\n",
       "        vertical-align: top;\n",
       "    }\n",
       "\n",
       "    .dataframe thead th {\n",
       "        text-align: right;\n",
       "    }\n",
       "</style>\n",
       "<table border=\"1\" class=\"dataframe\">\n",
       "  <thead>\n",
       "    <tr style=\"text-align: right;\">\n",
       "      <th></th>\n",
       "      <th>iso_code</th>\n",
       "      <th>continent</th>\n",
       "      <th>location</th>\n",
       "      <th>date</th>\n",
       "      <th>total_cases</th>\n",
       "      <th>new_cases</th>\n",
       "      <th>new_cases_smoothed</th>\n",
       "      <th>total_deaths</th>\n",
       "      <th>new_deaths</th>\n",
       "      <th>new_deaths_smoothed</th>\n",
       "      <th>...</th>\n",
       "      <th>gdp_per_capita</th>\n",
       "      <th>extreme_poverty</th>\n",
       "      <th>cardiovasc_death_rate</th>\n",
       "      <th>diabetes_prevalence</th>\n",
       "      <th>female_smokers</th>\n",
       "      <th>male_smokers</th>\n",
       "      <th>handwashing_facilities</th>\n",
       "      <th>hospital_beds_per_thousand</th>\n",
       "      <th>life_expectancy</th>\n",
       "      <th>human_development_index</th>\n",
       "    </tr>\n",
       "  </thead>\n",
       "  <tbody>\n",
       "    <tr>\n",
       "      <th>0</th>\n",
       "      <td>AFG</td>\n",
       "      <td>Asia</td>\n",
       "      <td>Afghanistan</td>\n",
       "      <td>2021-05-06</td>\n",
       "      <td>61162.0</td>\n",
       "      <td>365.0</td>\n",
       "      <td>226.571</td>\n",
       "      <td>2664.0</td>\n",
       "      <td>10.0</td>\n",
       "      <td>6.571</td>\n",
       "      <td>...</td>\n",
       "      <td>1803.987</td>\n",
       "      <td>None</td>\n",
       "      <td>597.029</td>\n",
       "      <td>9.59</td>\n",
       "      <td>None</td>\n",
       "      <td>None</td>\n",
       "      <td>37.746</td>\n",
       "      <td>0.5</td>\n",
       "      <td>64.83</td>\n",
       "      <td>0.511</td>\n",
       "    </tr>\n",
       "  </tbody>\n",
       "</table>\n",
       "<p>1 rows × 59 columns</p>\n",
       "</div>"
      ],
      "text/plain": [
       "  iso_code continent     location        date  total_cases  new_cases  \\\n",
       "0      AFG      Asia  Afghanistan  2021-05-06      61162.0      365.0   \n",
       "\n",
       "   new_cases_smoothed  total_deaths  new_deaths  new_deaths_smoothed  ...  \\\n",
       "0             226.571        2664.0        10.0                6.571  ...   \n",
       "\n",
       "   gdp_per_capita  extreme_poverty  cardiovasc_death_rate  \\\n",
       "0        1803.987             None                597.029   \n",
       "\n",
       "   diabetes_prevalence  female_smokers  male_smokers handwashing_facilities  \\\n",
       "0                 9.59            None          None                 37.746   \n",
       "\n",
       "  hospital_beds_per_thousand life_expectancy human_development_index  \n",
       "0                        0.5           64.83                   0.511  \n",
       "\n",
       "[1 rows x 59 columns]"
      ]
     },
     "execution_count": 110,
     "metadata": {},
     "output_type": "execute_result"
    }
   ],
   "source": [
    "# 2. When was the most recent entry?\n",
    "pd.read_sql_query(\"\"\"\n",
    "    SELECT * FROM data\n",
    "    ORDER BY date DESC\n",
    "    LIMIT 1;\"\"\",conn)"
   ]
  },
  {
   "cell_type": "code",
   "execution_count": 116,
   "metadata": {},
   "outputs": [
    {
     "data": {
      "text/html": [
       "<div>\n",
       "<style scoped>\n",
       "    .dataframe tbody tr th:only-of-type {\n",
       "        vertical-align: middle;\n",
       "    }\n",
       "\n",
       "    .dataframe tbody tr th {\n",
       "        vertical-align: top;\n",
       "    }\n",
       "\n",
       "    .dataframe thead th {\n",
       "        text-align: right;\n",
       "    }\n",
       "</style>\n",
       "<table border=\"1\" class=\"dataframe\">\n",
       "  <thead>\n",
       "    <tr style=\"text-align: right;\">\n",
       "      <th></th>\n",
       "      <th>PAYS</th>\n",
       "      <th>DATE</th>\n",
       "      <th>MORTS/MILLION</th>\n",
       "    </tr>\n",
       "  </thead>\n",
       "  <tbody>\n",
       "    <tr>\n",
       "      <th>0</th>\n",
       "      <td>Ecuador</td>\n",
       "      <td>2020-09-07</td>\n",
       "      <td>218.329</td>\n",
       "    </tr>\n",
       "  </tbody>\n",
       "</table>\n",
       "</div>"
      ],
      "text/plain": [
       "      PAYS        DATE  MORTS/MILLION\n",
       "0  Ecuador  2020-09-07        218.329"
      ]
     },
     "execution_count": 116,
     "metadata": {},
     "output_type": "execute_result"
    }
   ],
   "source": [
    "# 3. What country had the highest single day deaths per million? \n",
    "pd.read_sql_query(\"\"\"\n",
    "    SELECT location as 'PAYS', date as 'DATE', new_deaths_per_million as 'MORTS/MILLION'\n",
    "    FROM data\n",
    "    ORDER BY new_deaths_per_million DESC\n",
    "    LIMIT 1;\"\"\",conn)"
   ]
  },
  {
   "cell_type": "code",
   "execution_count": 114,
   "metadata": {},
   "outputs": [
    {
     "data": {
      "text/html": [
       "<div>\n",
       "<style scoped>\n",
       "    .dataframe tbody tr th:only-of-type {\n",
       "        vertical-align: middle;\n",
       "    }\n",
       "\n",
       "    .dataframe tbody tr th {\n",
       "        vertical-align: top;\n",
       "    }\n",
       "\n",
       "    .dataframe thead th {\n",
       "        text-align: right;\n",
       "    }\n",
       "</style>\n",
       "<table border=\"1\" class=\"dataframe\">\n",
       "  <thead>\n",
       "    <tr style=\"text-align: right;\">\n",
       "      <th></th>\n",
       "      <th>PAYS</th>\n",
       "      <th>NBR DE FOIS</th>\n",
       "    </tr>\n",
       "  </thead>\n",
       "  <tbody>\n",
       "    <tr>\n",
       "      <th>0</th>\n",
       "      <td>Albania</td>\n",
       "      <td>278</td>\n",
       "    </tr>\n",
       "  </tbody>\n",
       "</table>\n",
       "</div>"
      ],
      "text/plain": [
       "      PAYS  NBR DE FOIS\n",
       "0  Albania          278"
      ]
     },
     "execution_count": 114,
     "metadata": {},
     "output_type": "execute_result"
    }
   ],
   "source": [
    "# 4. Select any country. How many times have the deaths per million exceeded 1,000 in one day? \n",
    "pd.read_sql_query(\"\"\"\n",
    "    SELECT location as 'PAYS' , count(location) as 'NBR DE FOIS'\n",
    "    FROM data\n",
    "    WHERE new_deaths_per_million > 1.0 AND location = 'Albania';\"\"\",conn)"
   ]
  },
  {
   "cell_type": "code",
   "execution_count": 161,
   "metadata": {},
   "outputs": [
    {
     "data": {
      "text/html": [
       "<div>\n",
       "<style scoped>\n",
       "    .dataframe tbody tr th:only-of-type {\n",
       "        vertical-align: middle;\n",
       "    }\n",
       "\n",
       "    .dataframe tbody tr th {\n",
       "        vertical-align: top;\n",
       "    }\n",
       "\n",
       "    .dataframe thead th {\n",
       "        text-align: right;\n",
       "    }\n",
       "</style>\n",
       "<table border=\"1\" class=\"dataframe\">\n",
       "  <thead>\n",
       "    <tr style=\"text-align: right;\">\n",
       "      <th></th>\n",
       "      <th>DATE</th>\n",
       "      <th>PAYS</th>\n",
       "      <th>MORTS/MILLION</th>\n",
       "    </tr>\n",
       "  </thead>\n",
       "  <tbody>\n",
       "    <tr>\n",
       "      <th>0</th>\n",
       "      <td>2020-01-24</td>\n",
       "      <td>France</td>\n",
       "      <td>NaN</td>\n",
       "    </tr>\n",
       "    <tr>\n",
       "      <th>1</th>\n",
       "      <td>2020-01-25</td>\n",
       "      <td>France</td>\n",
       "      <td>NaN</td>\n",
       "    </tr>\n",
       "    <tr>\n",
       "      <th>2</th>\n",
       "      <td>2020-01-26</td>\n",
       "      <td>France</td>\n",
       "      <td>NaN</td>\n",
       "    </tr>\n",
       "    <tr>\n",
       "      <th>3</th>\n",
       "      <td>2020-01-27</td>\n",
       "      <td>France</td>\n",
       "      <td>NaN</td>\n",
       "    </tr>\n",
       "    <tr>\n",
       "      <th>4</th>\n",
       "      <td>2020-01-28</td>\n",
       "      <td>France</td>\n",
       "      <td>NaN</td>\n",
       "    </tr>\n",
       "    <tr>\n",
       "      <th>...</th>\n",
       "      <td>...</td>\n",
       "      <td>...</td>\n",
       "      <td>...</td>\n",
       "    </tr>\n",
       "    <tr>\n",
       "      <th>1398</th>\n",
       "      <td>2021-05-02</td>\n",
       "      <td>United States</td>\n",
       "      <td>1743.439</td>\n",
       "    </tr>\n",
       "    <tr>\n",
       "      <th>1399</th>\n",
       "      <td>2021-05-03</td>\n",
       "      <td>United States</td>\n",
       "      <td>1744.898</td>\n",
       "    </tr>\n",
       "    <tr>\n",
       "      <th>1400</th>\n",
       "      <td>2021-05-04</td>\n",
       "      <td>United States</td>\n",
       "      <td>1747.717</td>\n",
       "    </tr>\n",
       "    <tr>\n",
       "      <th>1401</th>\n",
       "      <td>2021-05-05</td>\n",
       "      <td>United States</td>\n",
       "      <td>1750.062</td>\n",
       "    </tr>\n",
       "    <tr>\n",
       "      <th>1402</th>\n",
       "      <td>2021-05-06</td>\n",
       "      <td>United States</td>\n",
       "      <td>1752.436</td>\n",
       "    </tr>\n",
       "  </tbody>\n",
       "</table>\n",
       "<p>1403 rows × 3 columns</p>\n",
       "</div>"
      ],
      "text/plain": [
       "           DATE           PAYS  MORTS/MILLION\n",
       "0    2020-01-24         France            NaN\n",
       "1    2020-01-25         France            NaN\n",
       "2    2020-01-26         France            NaN\n",
       "3    2020-01-27         France            NaN\n",
       "4    2020-01-28         France            NaN\n",
       "...         ...            ...            ...\n",
       "1398 2021-05-02  United States       1743.439\n",
       "1399 2021-05-03  United States       1744.898\n",
       "1400 2021-05-04  United States       1747.717\n",
       "1401 2021-05-05  United States       1750.062\n",
       "1402 2021-05-06  United States       1752.436\n",
       "\n",
       "[1403 rows x 3 columns]"
      ]
     },
     "execution_count": 161,
     "metadata": {},
     "output_type": "execute_result"
    }
   ],
   "source": [
    "# 5. Extract the deaths per million for US, France, and India. Plot the time series data and compare results to\n",
    "#  what the media is currently saying\n",
    "df_compar = pd.read_sql_query(\"\"\"\n",
    "        SELECT date as 'DATE', location as'PAYS', total_deaths_per_million as 'MORTS/MILLION'\n",
    "        FROM data\n",
    "        WHERE location IN ('France', 'India', 'United States');\n",
    "        \"\"\", conn)\n",
    "\n",
    "df_compar['DATE']= df_compar['DATE'].astype(dtype='datetime64[ns]')\n",
    "df_compar"
   ]
  },
  {
   "cell_type": "code",
   "execution_count": 121,
   "metadata": {},
   "outputs": [
    {
     "data": {
      "text/html": [
       "<div>\n",
       "<style scoped>\n",
       "    .dataframe tbody tr th:only-of-type {\n",
       "        vertical-align: middle;\n",
       "    }\n",
       "\n",
       "    .dataframe tbody tr th {\n",
       "        vertical-align: top;\n",
       "    }\n",
       "\n",
       "    .dataframe thead th {\n",
       "        text-align: right;\n",
       "    }\n",
       "</style>\n",
       "<table border=\"1\" class=\"dataframe\">\n",
       "  <thead>\n",
       "    <tr style=\"text-align: right;\">\n",
       "      <th></th>\n",
       "      <th>CONTINENT</th>\n",
       "      <th>MORTS/MILLION</th>\n",
       "      <th>CAS/MILLION</th>\n",
       "    </tr>\n",
       "  </thead>\n",
       "  <tbody>\n",
       "    <tr>\n",
       "      <th>0</th>\n",
       "      <td>None</td>\n",
       "      <td>0.339</td>\n",
       "      <td>12.985</td>\n",
       "    </tr>\n",
       "    <tr>\n",
       "      <th>1</th>\n",
       "      <td>Africa</td>\n",
       "      <td>0.319</td>\n",
       "      <td>13.728</td>\n",
       "    </tr>\n",
       "    <tr>\n",
       "      <th>2</th>\n",
       "      <td>Asia</td>\n",
       "      <td>0.257</td>\n",
       "      <td>1.772</td>\n",
       "    </tr>\n",
       "    <tr>\n",
       "      <th>3</th>\n",
       "      <td>Europe</td>\n",
       "      <td>1.390</td>\n",
       "      <td>31.969</td>\n",
       "    </tr>\n",
       "    <tr>\n",
       "      <th>4</th>\n",
       "      <td>North America</td>\n",
       "      <td>0.000</td>\n",
       "      <td>0.000</td>\n",
       "    </tr>\n",
       "    <tr>\n",
       "      <th>5</th>\n",
       "      <td>Oceania</td>\n",
       "      <td>0.275</td>\n",
       "      <td>23.726</td>\n",
       "    </tr>\n",
       "    <tr>\n",
       "      <th>6</th>\n",
       "      <td>South America</td>\n",
       "      <td>3.385</td>\n",
       "      <td>141.097</td>\n",
       "    </tr>\n",
       "  </tbody>\n",
       "</table>\n",
       "</div>"
      ],
      "text/plain": [
       "       CONTINENT  MORTS/MILLION  CAS/MILLION\n",
       "0           None          0.339       12.985\n",
       "1         Africa          0.319       13.728\n",
       "2           Asia          0.257        1.772\n",
       "3         Europe          1.390       31.969\n",
       "4  North America          0.000        0.000\n",
       "5        Oceania          0.275       23.726\n",
       "6  South America          3.385      141.097"
      ]
     },
     "execution_count": 121,
     "metadata": {},
     "output_type": "execute_result"
    }
   ],
   "source": [
    "# 6. Plot the deaths per million and cases per million by continent for your birthday in 2020. What does the data say?\n",
    "df_anniv= pd.read_sql_query(\"\"\"\n",
    "    SELECT continent as 'CONTINENT', new_deaths_per_million as 'MORTS/MILLION', new_cases_per_million as 'CAS/MILLION'\n",
    "    FROM data\n",
    "    WHERE date = '2020-07-30'\n",
    "    GROUP BY continent;\"\"\", conn)\n",
    "df_anniv"
   ]
  },
  {
   "cell_type": "code",
   "execution_count": 144,
   "metadata": {},
   "outputs": [
    {
     "data": {
      "image/png": "[encoded data removed]",
      "text/plain": [
       "<Figure size 432x288 with 1 Axes>"
      ]
     },
     "metadata": {
      "needs_background": "light"
     },
     "output_type": "display_data"
    }
   ],
   "source": [
    "graph_lock= sns.barplot(x=\"CONTINENT\", y=\"CAS/MILLION\", data=df_anniv).set_title('Nombre de nouveaux cas le 30-07-20', size='15');"
   ]
  },
  {
   "cell_type": "code",
   "execution_count": 141,
   "metadata": {},
   "outputs": [
    {
     "data": {
      "image/png": "[encoded data removed]",
      "text/plain": [
       "<Figure size 432x288 with 1 Axes>"
      ]
     },
     "metadata": {
      "needs_background": "light"
     },
     "output_type": "display_data"
    }
   ],
   "source": [
    "sns.barplot(x=\"CONTINENT\", y=\"MORTS/MILLION\", data=df_anniv).set_title('Nombre de nouvelles morts le 30-07-20', size='15');"
   ]
  },
  {
   "cell_type": "code",
   "execution_count": 171,
   "metadata": {
    "scrolled": true
   },
   "outputs": [
    {
     "data": {
      "text/html": [
       "<div>\n",
       "<style scoped>\n",
       "    .dataframe tbody tr th:only-of-type {\n",
       "        vertical-align: middle;\n",
       "    }\n",
       "\n",
       "    .dataframe tbody tr th {\n",
       "        vertical-align: top;\n",
       "    }\n",
       "\n",
       "    .dataframe thead th {\n",
       "        text-align: right;\n",
       "    }\n",
       "</style>\n",
       "<table border=\"1\" class=\"dataframe\">\n",
       "  <thead>\n",
       "    <tr style=\"text-align: right;\">\n",
       "      <th></th>\n",
       "      <th>CONTINENT</th>\n",
       "      <th>PAYS</th>\n",
       "      <th>HOSPITALISATIONS</th>\n",
       "      <th>INDEX DE CONFINEMENT</th>\n",
       "    </tr>\n",
       "  </thead>\n",
       "  <tbody>\n",
       "    <tr>\n",
       "      <th>0</th>\n",
       "      <td>Asia</td>\n",
       "      <td>Afghanistan</td>\n",
       "      <td>NaN</td>\n",
       "      <td>8.33</td>\n",
       "    </tr>\n",
       "    <tr>\n",
       "      <th>1</th>\n",
       "      <td>Asia</td>\n",
       "      <td>Afghanistan</td>\n",
       "      <td>NaN</td>\n",
       "      <td>8.33</td>\n",
       "    </tr>\n",
       "    <tr>\n",
       "      <th>2</th>\n",
       "      <td>Asia</td>\n",
       "      <td>Afghanistan</td>\n",
       "      <td>NaN</td>\n",
       "      <td>8.33</td>\n",
       "    </tr>\n",
       "    <tr>\n",
       "      <th>3</th>\n",
       "      <td>Asia</td>\n",
       "      <td>Afghanistan</td>\n",
       "      <td>NaN</td>\n",
       "      <td>8.33</td>\n",
       "    </tr>\n",
       "    <tr>\n",
       "      <th>4</th>\n",
       "      <td>Asia</td>\n",
       "      <td>Afghanistan</td>\n",
       "      <td>NaN</td>\n",
       "      <td>8.33</td>\n",
       "    </tr>\n",
       "    <tr>\n",
       "      <th>...</th>\n",
       "      <td>...</td>\n",
       "      <td>...</td>\n",
       "      <td>...</td>\n",
       "      <td>...</td>\n",
       "    </tr>\n",
       "    <tr>\n",
       "      <th>73332</th>\n",
       "      <td>Africa</td>\n",
       "      <td>Zimbabwe</td>\n",
       "      <td>NaN</td>\n",
       "      <td>51.85</td>\n",
       "    </tr>\n",
       "    <tr>\n",
       "      <th>73333</th>\n",
       "      <td>Africa</td>\n",
       "      <td>Zimbabwe</td>\n",
       "      <td>NaN</td>\n",
       "      <td>51.85</td>\n",
       "    </tr>\n",
       "    <tr>\n",
       "      <th>73334</th>\n",
       "      <td>Africa</td>\n",
       "      <td>Zimbabwe</td>\n",
       "      <td>NaN</td>\n",
       "      <td>51.85</td>\n",
       "    </tr>\n",
       "    <tr>\n",
       "      <th>73335</th>\n",
       "      <td>Africa</td>\n",
       "      <td>Zimbabwe</td>\n",
       "      <td>NaN</td>\n",
       "      <td>51.85</td>\n",
       "    </tr>\n",
       "    <tr>\n",
       "      <th>73336</th>\n",
       "      <td>Africa</td>\n",
       "      <td>Zimbabwe</td>\n",
       "      <td>NaN</td>\n",
       "      <td>51.85</td>\n",
       "    </tr>\n",
       "  </tbody>\n",
       "</table>\n",
       "<p>73337 rows × 4 columns</p>\n",
       "</div>"
      ],
      "text/plain": [
       "      CONTINENT         PAYS  HOSPITALISATIONS  INDEX DE CONFINEMENT\n",
       "0          Asia  Afghanistan               NaN                  8.33\n",
       "1          Asia  Afghanistan               NaN                  8.33\n",
       "2          Asia  Afghanistan               NaN                  8.33\n",
       "3          Asia  Afghanistan               NaN                  8.33\n",
       "4          Asia  Afghanistan               NaN                  8.33\n",
       "...         ...          ...               ...                   ...\n",
       "73332    Africa     Zimbabwe               NaN                 51.85\n",
       "73333    Africa     Zimbabwe               NaN                 51.85\n",
       "73334    Africa     Zimbabwe               NaN                 51.85\n",
       "73335    Africa     Zimbabwe               NaN                 51.85\n",
       "73336    Africa     Zimbabwe               NaN                 51.85\n",
       "\n",
       "[73337 rows x 4 columns]"
      ]
     },
     "execution_count": 171,
     "metadata": {},
     "output_type": "execute_result"
    }
   ],
   "source": [
    "# 7. Plot the lockdown stringency for each country and color the scatter points by continent. Any insights?\n",
    "\n",
    "df_lock= pd.read_sql_query(\"\"\"\n",
    "    SELECT continent as 'CONTINENT', location as 'PAYS', hosp_patients as 'HOSPITALISATIONS', stringency_index as 'INDEX DE CONFINEMENT'\n",
    "    FROM data\n",
    "    WHERE stringency_index IS NOT NULL;\"\"\", conn)\n",
    "\n",
    "df_lock"
   ]
  },
  {
   "cell_type": "code",
   "execution_count": 157,
   "metadata": {},
   "outputs": [
    {
     "data": {
      "image/png": "[encoded data removed]",
      "text/plain": [
       "<Figure size 720x576 with 1 Axes>"
      ]
     },
     "metadata": {
      "needs_background": "light"
     },
     "output_type": "display_data"
    }
   ],
   "source": [
    "plt.figure(figsize=(10,8))\n",
    "graph_lock = sns.scatterplot(data=df_lock, x=\"INDEX DE CONFINEMENT\", y=\"HOSPITALISATIONS\", hue=\"CONTINENT\").set_title('INDEX de CONFINEMENT PAR CONTINENT', size='15');"
   ]
  }
 ],
 "metadata": {
  "kernelspec": {
   "display_name": "Python 3",
   "language": "python",
   "name": "python3"
  },
  "language_info": {
   "codemirror_mode": {
    "name": "ipython",
    "version": 3
   },
   "file_extension": ".py",
   "mimetype": "text/x-python",
   "name": "python",
   "nbconvert_exporter": "python",
   "pygments_lexer": "ipython3",
   "version": "3.8.5"
  }
 },
 "nbformat": 4,
 "nbformat_minor": 4
}
